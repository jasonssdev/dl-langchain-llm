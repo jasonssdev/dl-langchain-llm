{
 "cells": [
  {
   "cell_type": "code",
   "execution_count": 1,
   "id": "60ee8a12",
   "metadata": {},
   "outputs": [],
   "source": [
    "from openai import OpenAI\n",
    "client = OpenAI()\n",
    "\n"
   ]
  },
  {
   "cell_type": "code",
   "execution_count": 2,
   "id": "5f44d97e",
   "metadata": {},
   "outputs": [
    {
     "name": "stdout",
     "output_type": "stream",
     "text": [
      "Under a moonlit sky, a gentle unicorn tiptoed through fields of sparkling dreams, leaving a trail of stardust to guide children safely into their sweetest sleep.\n"
     ]
    }
   ],
   "source": [
    "response = client.responses.create(\n",
    "    model=\"gpt-4.1\",\n",
    "    input=\"Write a one-sentence bedtime story about a unicorn.\"\n",
    ")\n",
    "\n",
    "print(response.output_text)"
   ]
  },
  {
   "cell_type": "code",
   "execution_count": 3,
   "id": "9049ccb9",
   "metadata": {},
   "outputs": [
    {
     "name": "stdout",
     "output_type": "stream",
     "text": [
      "# packages in environment at /Users/jasonssdev/opt/anaconda3/envs/ai-py3.12:\n",
      "#\n",
      "# Name                    Version                   Build  Channel\n",
      "langchain-openai          0.3.14             pyhd8ed1ab_0    conda-forge\n",
      "openai                    1.75.0             pyhd8ed1ab_0    conda-forge\n"
     ]
    }
   ],
   "source": [
    "!conda list openai"
   ]
  },
  {
   "cell_type": "code",
   "execution_count": null,
   "id": "4edf18ff",
   "metadata": {},
   "outputs": [],
   "source": [
    "="
   ]
  }
 ],
 "metadata": {
  "kernelspec": {
   "display_name": "ai-py3.12",
   "language": "python",
   "name": "python3"
  },
  "language_info": {
   "codemirror_mode": {
    "name": "ipython",
    "version": 3
   },
   "file_extension": ".py",
   "mimetype": "text/x-python",
   "name": "python",
   "nbconvert_exporter": "python",
   "pygments_lexer": "ipython3",
   "version": "3.11.12"
  }
 },
 "nbformat": 4,
 "nbformat_minor": 5
}
